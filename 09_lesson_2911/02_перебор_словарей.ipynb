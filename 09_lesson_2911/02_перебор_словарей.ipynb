{
 "cells": [
  {
   "cell_type": "markdown",
   "metadata": {
    "collapsed": true
   },
   "source": [
    "## Перебор словарей\n",
    "\n",
    "<p>Для перебора словарей нам понадобится цикл.</p>\n",
    "\n",
    "<p>Для начала необходимо создать словарь.</p>"
   ]
  },
  {
   "cell_type": "code",
   "execution_count": 1,
   "metadata": {},
   "outputs": [],
   "source": [
    "shop = {\n",
    "    'milk': 2.99,\n",
    "    'cookies': 6.54,\n",
    "    'cucumber': 7.23,\n",
    "    'cheese': 12.23,\n",
    "    'orange': 7.82,\n",
    "    'kefir': 3.45,\n",
    "}"
   ]
  },
  {
   "cell_type": "markdown",
   "metadata": {},
   "source": [
    "<p>Словарь можно перебирать тремя разными способами:</p>\n",
    "\n",
    "<ul>\n",
    "    <li>Перебирать ТОЛЬКО ключи - <code>.keys()</code></li>\n",
    "    <li>Перебирать ТОЛЬКО значения - <code>.values()</code></li>\n",
    "    <li>Перебирать ключи и значения - <code>.items()</code></li>\n",
    "</ul>\n",
    "\n",
    "<p>Для перебора ключей используется метод <code>.keys()</code>, который возвращает список ключей, хранящихся в словаре.</p>"
   ]
  },
  {
   "cell_type": "code",
   "execution_count": 2,
   "metadata": {},
   "outputs": [
    {
     "name": "stdout",
     "output_type": "stream",
     "text": [
      "dict_keys(['milk', 'cookies', 'cucumber', 'cheese', 'orange', 'kefir'])\n"
     ]
    }
   ],
   "source": [
    "print(shop.keys())"
   ]
  },
  {
   "cell_type": "markdown",
   "metadata": {},
   "source": [
    "<p>Так как метод возвращает мне список, я могу использовать его для перебора всех <b>ключей</b> словаря, просто передав его как последовательность в цикл <code>for</code>.</p>"
   ]
  },
  {
   "cell_type": "code",
   "execution_count": 3,
   "metadata": {},
   "outputs": [
    {
     "name": "stdout",
     "output_type": "stream",
     "text": [
      "продукт: milk\n",
      "продукт: cookies\n",
      "продукт: cucumber\n",
      "продукт: cheese\n",
      "продукт: orange\n",
      "продукт: kefir\n"
     ]
    }
   ],
   "source": [
    "for key in shop.keys():\n",
    "    print(f'продукт: {key}')"
   ]
  },
  {
   "cell_type": "markdown",
   "metadata": {},
   "source": [
    "<p>Для перебора значений используется метод <code>.values()</code>, который возвращает список значений, хранящихся в словаре.</p>"
   ]
  },
  {
   "cell_type": "code",
   "execution_count": 4,
   "metadata": {},
   "outputs": [
    {
     "name": "stdout",
     "output_type": "stream",
     "text": [
      "dict_values([2.99, 6.54, 7.23, 12.23, 7.82, 3.45])\n"
     ]
    }
   ],
   "source": [
    "print(shop.values())"
   ]
  },
  {
   "cell_type": "markdown",
   "metadata": {},
   "source": [
    "<p>Так как метод возвращает мне список, я могу использовать его для перебора всех <b>значений</b> словаря, просто передав его как последовательность в цикл <code>for</code>.</p>"
   ]
  },
  {
   "cell_type": "code",
   "execution_count": 5,
   "metadata": {},
   "outputs": [
    {
     "name": "stdout",
     "output_type": "stream",
     "text": [
      "Значение: 2.99.\n",
      "Значение: 6.54.\n",
      "Значение: 7.23.\n",
      "Значение: 12.23.\n",
      "Значение: 7.82.\n",
      "Значение: 3.45.\n"
     ]
    }
   ],
   "source": [
    "for value in shop.values():\n",
    "    print(f'Значение: {value}.')"
   ]
  },
  {
   "cell_type": "markdown",
   "metadata": {},
   "source": [
    "<p>Для перебора всех значений используется метод <code>.items()</code>, который возвращает список кортежей, состоящих из ключа и значения, хранящихся в словаре.</p>\n",
    "\n",
    "<p>Кортеж - это структура, похожая на список, заключенная в круглые, а не квадратные скобки, и не может изменяться.</p>"
   ]
  },
  {
   "cell_type": "code",
   "execution_count": 6,
   "metadata": {},
   "outputs": [
    {
     "name": "stdout",
     "output_type": "stream",
     "text": [
      "dict_items([('milk', 2.99), ('cookies', 6.54), ('cucumber', 7.23), ('cheese', 12.23), ('orange', 7.82), ('kefir', 3.45)])\n"
     ]
    }
   ],
   "source": [
    "print(shop.items())"
   ]
  },
  {
   "cell_type": "markdown",
   "metadata": {},
   "source": [
    "<p>Кортежи для работы в цикле нужно будет распаковать. Распаковать - это значит поместить оба значения кортежа в разные перменные. Для этого используется модель кортежного присваивания значения переменной.</p>\n",
    "\n",
    "<p>Для распаковки в цикле, я создам сразу две управляющее переменные, перечислив их через запятую. Первый элемент кортежа будет помещен в первую переменную (<code>key</code>), а второй - во вторую (<code>value</code>).</p>"
   ]
  },
  {
   "cell_type": "code",
   "execution_count": 7,
   "metadata": {},
   "outputs": [
    {
     "name": "stdout",
     "output_type": "stream",
     "text": [
      "milk costs $2.99.\n",
      "cookies costs $6.54.\n",
      "cucumber costs $7.23.\n",
      "cheese costs $12.23.\n",
      "orange costs $7.82.\n",
      "kefir costs $3.45.\n"
     ]
    }
   ],
   "source": [
    "for key, value in shop.items():\n",
    "    print(f'{key} costs ${value}.')"
   ]
  },
  {
   "cell_type": "code",
   "execution_count": null,
   "metadata": {},
   "outputs": [],
   "source": []
  }
 ],
 "metadata": {
  "kernelspec": {
   "display_name": "Python 3 (ipykernel)",
   "language": "python",
   "name": "python3"
  },
  "language_info": {
   "codemirror_mode": {
    "name": "ipython",
    "version": 3
   },
   "file_extension": ".py",
   "mimetype": "text/x-python",
   "name": "python",
   "nbconvert_exporter": "python",
   "pygments_lexer": "ipython3",
   "version": "3.7.7"
  }
 },
 "nbformat": 4,
 "nbformat_minor": 1
}